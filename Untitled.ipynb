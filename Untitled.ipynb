{
 "cells": [
  {
   "cell_type": "code",
   "execution_count": 3,
   "id": "8dd54783",
   "metadata": {},
   "outputs": [
    {
     "data": {
      "text/html": [
       "\n",
       "        <iframe\n",
       "            width=\"100%\"\n",
       "            height=\"650\"\n",
       "            src=\"http://127.0.0.1:8050/\"\n",
       "            frameborder=\"0\"\n",
       "            allowfullscreen\n",
       "            \n",
       "        ></iframe>\n",
       "        "
      ],
      "text/plain": [
       "<IPython.lib.display.IFrame at 0x14b3db75f50>"
      ]
     },
     "metadata": {},
     "output_type": "display_data"
    }
   ],
   "source": [
    "import dash\n",
    "import pandas as pd\n",
    "from dash import Dash, dash_table, dcc, html, Input, Output, State\n",
    "import plotly.express as px\n",
    "\n",
    "app = Dash(__name__)\n",
    "server = app.server\n",
    "\n",
    "df = px.data.gapminder()\n",
    "\n",
    "range_slider = dcc.RangeSlider(\n",
    "    value=[1987, 2007],\n",
    "    step=5,\n",
    "    marks={i: str(i) for i in range(1952, 2012, 5)},\n",
    ")\n",
    "\n",
    "dtable = dash_table.DataTable(\n",
    "    columns=[{\"name\": i, \"id\": i} for i in sorted(df.columns)],\n",
    "    sort_action=\"native\",\n",
    "    page_size=10,\n",
    "    style_table={\"overflowX\": \"auto\"},\n",
    ")\n",
    "\n",
    "download_button = html.Button(\"Download Filtered CSV\", style={\"marginTop\": 20})\n",
    "download_component = dcc.Download()\n",
    "\n",
    "app.layout = html.Div(\n",
    "    [\n",
    "        html.H2(\"Gapminder Data Download\", style={\"marginBottom\": 20}),\n",
    "        download_component,\n",
    "        range_slider,\n",
    "        download_button,\n",
    "        dtable,\n",
    "    ]\n",
    ")\n",
    "\n",
    "\n",
    "@app.callback(\n",
    "    Output(dtable, \"data\"),\n",
    "    Input(range_slider, \"value\"),\n",
    ")\n",
    "def update_table(slider_value):\n",
    "    if not slider_value:\n",
    "        return dash.no_update\n",
    "    dff = df[df.year.between(slider_value[0], slider_value[1])]\n",
    "    return dff.to_dict(\"records\")\n",
    "\n",
    "\n",
    "@app.callback(\n",
    "    Output(download_component, \"data\"),\n",
    "    Input(download_button, \"n_clicks\"),\n",
    "    State(dtable, \"derived_virtual_data\"),\n",
    "    prevent_initial_call=True,\n",
    ")\n",
    "def download_data(n_clicks, data):\n",
    "    dff = pd.DataFrame(data)\n",
    "    return dcc.send_data_frame(dff.to_csv, \"filtered_csv.csv\")\n",
    "\n",
    "\n",
    "if __name__ == \"__main__\":\n",
    "    app.run_server(debug=True)"
   ]
  },
  {
   "cell_type": "code",
   "execution_count": null,
   "id": "08290f9d",
   "metadata": {},
   "outputs": [],
   "source": []
  }
 ],
 "metadata": {
  "kernelspec": {
   "display_name": "Python 3 (ipykernel)",
   "language": "python",
   "name": "python3"
  },
  "language_info": {
   "codemirror_mode": {
    "name": "ipython",
    "version": 3
   },
   "file_extension": ".py",
   "mimetype": "text/x-python",
   "name": "python",
   "nbconvert_exporter": "python",
   "pygments_lexer": "ipython3",
   "version": "3.11.4"
  }
 },
 "nbformat": 4,
 "nbformat_minor": 5
}
